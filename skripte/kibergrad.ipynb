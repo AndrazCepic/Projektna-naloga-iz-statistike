{
 "cells": [
  {
   "cell_type": "code",
   "execution_count": 228,
   "id": "5d0ee899",
   "metadata": {},
   "outputs": [],
   "source": [
    "import numpy as np\n",
    "import pandas as pd\n",
    "import matplotlib.pyplot as plt\n",
    "from scipy.stats import t"
   ]
  },
  {
   "cell_type": "code",
   "execution_count": 229,
   "id": "5329efc4",
   "metadata": {},
   "outputs": [
    {
     "name": "stdout",
     "output_type": "stream",
     "text": [
      "43886\n"
     ]
    }
   ],
   "source": [
    "druzine = pd.read_csv('../podatki/Kibergrad.csv')\n",
    "velikost_populacije = druzine.shape[0]\n",
    "print(velikost_populacije)"
   ]
  },
  {
   "cell_type": "code",
   "execution_count": 230,
   "id": "967793a7",
   "metadata": {},
   "outputs": [
    {
     "data": {
      "text/html": [
       "<div>\n",
       "<style scoped>\n",
       "    .dataframe tbody tr th:only-of-type {\n",
       "        vertical-align: middle;\n",
       "    }\n",
       "\n",
       "    .dataframe tbody tr th {\n",
       "        vertical-align: top;\n",
       "    }\n",
       "\n",
       "    .dataframe thead th {\n",
       "        text-align: right;\n",
       "    }\n",
       "</style>\n",
       "<table border=\"1\" class=\"dataframe\">\n",
       "  <thead>\n",
       "    <tr style=\"text-align: right;\">\n",
       "      <th></th>\n",
       "      <th>'TIP'</th>\n",
       "      <th>'CLANOV'</th>\n",
       "      <th>'OTROK'</th>\n",
       "      <th>'DOHODEK'</th>\n",
       "      <th>'CETRT'</th>\n",
       "      <th>'IZOBRAZBA'</th>\n",
       "    </tr>\n",
       "  </thead>\n",
       "  <tbody>\n",
       "    <tr>\n",
       "      <th>0</th>\n",
       "      <td>1</td>\n",
       "      <td>2</td>\n",
       "      <td>0</td>\n",
       "      <td>43450</td>\n",
       "      <td>1</td>\n",
       "      <td>39</td>\n",
       "    </tr>\n",
       "    <tr>\n",
       "      <th>1</th>\n",
       "      <td>1</td>\n",
       "      <td>2</td>\n",
       "      <td>0</td>\n",
       "      <td>79000</td>\n",
       "      <td>1</td>\n",
       "      <td>40</td>\n",
       "    </tr>\n",
       "    <tr>\n",
       "      <th>2</th>\n",
       "      <td>1</td>\n",
       "      <td>2</td>\n",
       "      <td>0</td>\n",
       "      <td>51306</td>\n",
       "      <td>1</td>\n",
       "      <td>39</td>\n",
       "    </tr>\n",
       "    <tr>\n",
       "      <th>3</th>\n",
       "      <td>1</td>\n",
       "      <td>4</td>\n",
       "      <td>2</td>\n",
       "      <td>24850</td>\n",
       "      <td>1</td>\n",
       "      <td>41</td>\n",
       "    </tr>\n",
       "    <tr>\n",
       "      <th>4</th>\n",
       "      <td>1</td>\n",
       "      <td>4</td>\n",
       "      <td>2</td>\n",
       "      <td>65145</td>\n",
       "      <td>1</td>\n",
       "      <td>43</td>\n",
       "    </tr>\n",
       "    <tr>\n",
       "      <th>...</th>\n",
       "      <td>...</td>\n",
       "      <td>...</td>\n",
       "      <td>...</td>\n",
       "      <td>...</td>\n",
       "      <td>...</td>\n",
       "      <td>...</td>\n",
       "    </tr>\n",
       "    <tr>\n",
       "      <th>43881</th>\n",
       "      <td>1</td>\n",
       "      <td>5</td>\n",
       "      <td>3</td>\n",
       "      <td>30800</td>\n",
       "      <td>4</td>\n",
       "      <td>36</td>\n",
       "    </tr>\n",
       "    <tr>\n",
       "      <th>43882</th>\n",
       "      <td>1</td>\n",
       "      <td>2</td>\n",
       "      <td>0</td>\n",
       "      <td>16684</td>\n",
       "      <td>4</td>\n",
       "      <td>34</td>\n",
       "    </tr>\n",
       "    <tr>\n",
       "      <th>43883</th>\n",
       "      <td>1</td>\n",
       "      <td>2</td>\n",
       "      <td>0</td>\n",
       "      <td>12000</td>\n",
       "      <td>4</td>\n",
       "      <td>39</td>\n",
       "    </tr>\n",
       "    <tr>\n",
       "      <th>43884</th>\n",
       "      <td>1</td>\n",
       "      <td>2</td>\n",
       "      <td>0</td>\n",
       "      <td>50022</td>\n",
       "      <td>4</td>\n",
       "      <td>34</td>\n",
       "    </tr>\n",
       "    <tr>\n",
       "      <th>43885</th>\n",
       "      <td>1</td>\n",
       "      <td>9</td>\n",
       "      <td>7</td>\n",
       "      <td>21082</td>\n",
       "      <td>4</td>\n",
       "      <td>39</td>\n",
       "    </tr>\n",
       "  </tbody>\n",
       "</table>\n",
       "<p>43886 rows × 6 columns</p>\n",
       "</div>"
      ],
      "text/plain": [
       "       'TIP'  'CLANOV'  'OTROK'  'DOHODEK'  'CETRT'  'IZOBRAZBA'\n",
       "0          1         2        0      43450        1           39\n",
       "1          1         2        0      79000        1           40\n",
       "2          1         2        0      51306        1           39\n",
       "3          1         4        2      24850        1           41\n",
       "4          1         4        2      65145        1           43\n",
       "...      ...       ...      ...        ...      ...          ...\n",
       "43881      1         5        3      30800        4           36\n",
       "43882      1         2        0      16684        4           34\n",
       "43883      1         2        0      12000        4           39\n",
       "43884      1         2        0      50022        4           34\n",
       "43885      1         9        7      21082        4           39\n",
       "\n",
       "[43886 rows x 6 columns]"
      ]
     },
     "execution_count": 230,
     "metadata": {},
     "output_type": "execute_result"
    }
   ],
   "source": [
    "druzine"
   ]
  },
  {
   "cell_type": "code",
   "execution_count": 231,
   "id": "29a7d154",
   "metadata": {},
   "outputs": [],
   "source": [
    "# Vzamemo 100 enostavnih slučajnih vzorcev družin\n",
    "n_vzorca = 200\n",
    "vzorci = [druzine.sample(n_vzorca) for _ in range(100)]"
   ]
  },
  {
   "cell_type": "code",
   "execution_count": 232,
   "id": "e0679d5b",
   "metadata": {},
   "outputs": [],
   "source": [
    "vzorci_otrok = np.array([v[\"'OTROK'\"].to_numpy() for v in vzorci])"
   ]
  },
  {
   "cell_type": "code",
   "execution_count": 233,
   "id": "06097355",
   "metadata": {},
   "outputs": [
    {
     "data": {
      "text/plain": [
       "0.955"
      ]
     },
     "execution_count": 233,
     "metadata": {},
     "output_type": "execute_result"
    }
   ],
   "source": [
    "# Izračun ocen povprečij števila otrok za vsakega od vzorcev družin\n",
    "povprecja_otrok = np.mean(vzorci_otrok, axis=1)\n",
    "\n",
    "# Povprečje ocena povprečja iz prvega vzorca\n",
    "povprecja_otrok[0]"
   ]
  },
  {
   "cell_type": "code",
   "execution_count": 234,
   "id": "35025fa5",
   "metadata": {},
   "outputs": [
    {
     "data": {
      "text/plain": [
       "0.07839300338333792"
      ]
     },
     "execution_count": 234,
     "metadata": {},
     "output_type": "execute_result"
    }
   ],
   "source": [
    "# Računanje standardne napake ocene povprečja\n",
    "N = velikost_populacije\n",
    "(a, b) = vzorci_otrok.shape\n",
    "\n",
    "razsirjeno_povprecje = np.transpose(np.resize(povprecja_otrok, (b,a)))\n",
    "vsota_kvadratov = (vzorci_otrok - razsirjeno_povprecje)**2\n",
    "vsota_kvadratov = vsota_kvadratov.sum(axis=1)\n",
    "SE = ((N-1) / N) * (1/(n_vzorca*(n_vzorca-1))) * vsota_kvadratov\n",
    "SE = np.sqrt(SE)\n",
    "\n",
    "# Ocena standardne napake za prvi vzorec\n",
    "SE[0]"
   ]
  },
  {
   "cell_type": "code",
   "execution_count": 235,
   "id": "79d7d120",
   "metadata": {},
   "outputs": [
    {
     "data": {
      "text/plain": [
       "array([0.8004124, 1.1095876])"
      ]
     },
     "execution_count": 235,
     "metadata": {},
     "output_type": "execute_result"
    }
   ],
   "source": [
    "# Izračun intervalov zaupanja za izbrane vzorce družin\n",
    "df = n_vzorca - 1\n",
    "alpha = 0.05 # je stopnja tveganja\n",
    "kvantil_t = t.ppf(1-(alpha/2), df)\n",
    "\n",
    "sirina_intervala = kvantil_t * SE\n",
    "spodnje_meje = povprecja_otrok - sirina_intervala\n",
    "zgornje_meje = povprecja_otrok + sirina_intervala\n",
    "intervali_zaupanja = np.array([spodnje_meje, zgornje_meje]).transpose()\n",
    "\n",
    "# Interval zaupanja za prvi vzorec\n",
    "intervali_zaupanja[0]"
   ]
  },
  {
   "cell_type": "code",
   "execution_count": 236,
   "metadata": {},
   "outputs": [
    {
     "data": {
      "image/png": "[encoded data removed]",
      "text/plain": [
       "<Figure size 1080x576 with 1 Axes>"
      ]
     },
     "metadata": {
      "needs_background": "light"
     },
     "output_type": "display_data"
    }
   ],
   "source": [
    "# Izris intervalov zaupanja\n",
    "fig, ax = plt.subplots(figsize=(15, 8))\n",
    "x = np.linspace(1, 100, 100)\n",
    "ax.bar(x, 2*sirina_intervala, bottom=intervali_zaupanja[:, 0])\n",
    "ax.set_xlabel('Vzorci')\n",
    "ax.set_ylabel('[število otrok]')\n",
    "ax.set_title('Intervali zaupanja ocen povprečnega števila otrok na družino')\n",
    "plt.savefig('../rezultati/intervali_zaupanja_100_vzorcev.jpg', dpi=150)"
   ]
  },
  {
   "cell_type": "code",
   "execution_count": 237,
   "id": "333b13d2",
   "metadata": {},
   "outputs": [],
   "source": [
    "# Izračun populacijskega povprečja, standardnega odklona in\n",
    "# prave standardne napake za enostavne slučajne vzorce velikosti 200\n",
    "populacija_otrok = druzine[\"'OTROK'\"].to_numpy()\n",
    "mi_otrok = populacija_otrok.mean()\n",
    "std_otrok = populacija_otrok.std()\n",
    "st_napaka_otrok_vzorcev = np.sqrt((N - n_vzorca) / (N - 1) * std_otrok**2 / n_vzorca)"
   ]
  },
  {
   "cell_type": "code",
   "execution_count": 238,
   "id": "36b052ef",
   "metadata": {},
   "outputs": [
    {
     "name": "stdout",
     "output_type": "stream",
     "text": [
      "Ocena standardne napake:  0.07839300338333792\n",
      "Prava standardna napaka:  0.0816404987959038\n"
     ]
    }
   ],
   "source": [
    "# Primerjava standardne napake za prvi vzorec\n",
    "print('Ocena standardne napake: ', SE[0])\n",
    "print('Prava standardna napaka: ', st_napaka_otrok_vzorcev)"
   ]
  },
  {
   "cell_type": "code",
   "execution_count": 239,
   "id": "6e3202be",
   "metadata": {},
   "outputs": [
    {
     "name": "stdout",
     "output_type": "stream",
     "text": [
      "Da, interval zapuanja za prvi vzorec pokrije populacijsko povprečje.\n"
     ]
    }
   ],
   "source": [
    "# Ali interval zapuanja pokrije populacijsko povprečje?\n",
    "pokrije = intervali_zaupanja[0,0] < mi_otrok and mi_otrok < intervali_zaupanja[0, 1]\n",
    "if pokrije:\n",
    "    print('Da, interval zapuanja za prvi vzorec pokrije populacijsko povprečje.')\n",
    "else:\n",
    "    print('Ne, interval zapuanja za prvi vzorec ne pokrije populacijskega povprečja.')"
   ]
  },
  {
   "cell_type": "code",
   "execution_count": 244,
   "id": "6ad21959",
   "metadata": {},
   "outputs": [
    {
     "name": "stdout",
     "output_type": "stream",
     "text": [
      "Število intervalov zaupanja, ki pokrivajo populacijsko povprečje, je 94\n"
     ]
    },
    {
     "data": {
      "image/png": "[encoded data removed]",
      "text/plain": [
       "<Figure size 1080x576 with 1 Axes>"
      ]
     },
     "metadata": {
      "needs_background": "light"
     },
     "output_type": "display_data"
    }
   ],
   "source": [
    "# Grafična primerjava intervalov zaupanja in populacijskega povprečja\n",
    "fig, ax = plt.subplots(figsize=(15, 8))\n",
    "x = np.linspace(1, 100, 100)\n",
    "ax.bar(x, 2*sirina_intervala, bottom=intervali_zaupanja[:, 0])\n",
    "izris_mi = ax.axhline(mi_otrok, color='r')\n",
    "izris_mi.set_label('populacijsko povprečje števila otrok na družino')\n",
    "ax.set_xlabel('Vzorci')\n",
    "ax.set_ylabel('[število otrok]')\n",
    "ax.legend()\n",
    "ax.set_title('Populacijsko povprečje otrok na družino in intrevali zaupanja ocen tega povprečja.')\n",
    "fig.savefig('../rezultati/intervali_zaupanja_100_vzorcev_pop_povprecje.jpg', dpi=150)\n",
    "\n",
    "# Koliko od intervalov zaupanja izmed stotih vzorcev pokrije populacijsko povprečje?\n",
    "stevilo_int_zaup_z_mi = (intervali_zaupanja[:, 0] < mi_otrok) == (mi_otrok < intervali_zaupanja[:, 1])\n",
    "stevilo_int_zaup_z_mi = stevilo_int_zaup_z_mi.astype(int).sum()\n",
    "print('Število intervalov zaupanja, ki pokrivajo populacijsko povprečje, je', stevilo_int_zaup_z_mi)"
   ]
  },
  {
   "cell_type": "code",
   "execution_count": 243,
   "id": "95af4828",
   "metadata": {},
   "outputs": [],
   "source": [
    "# Standardni odkloni\n"
   ]
  },
  {
   "cell_type": "code",
   "execution_count": null,
   "id": "fce5c4ed",
   "metadata": {},
   "outputs": [],
   "source": []
  }
 ],
 "metadata": {
  "kernelspec": {
   "display_name": "Python 3 (ipykernel)",
   "language": "python",
   "name": "python3"
  },
  "language_info": {
   "codemirror_mode": {
    "name": "ipython",
    "version": 3
   },
   "file_extension": ".py",
   "mimetype": "text/x-python",
   "name": "python",
   "nbconvert_exporter": "python",
   "pygments_lexer": "ipython3",
   "version": "3.9.12"
  }
 },
 "nbformat": 4,
 "nbformat_minor": 5
}
