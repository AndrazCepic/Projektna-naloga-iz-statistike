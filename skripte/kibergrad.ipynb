{
 "cells": [
  {
   "cell_type": "code",
   "execution_count": 1,
   "id": "5d0ee899",
   "metadata": {},
   "outputs": [],
   "source": [
    "import numpy as np\n",
    "import pandas as pd\n",
    "import matplotlib.pyplot as plt\n",
    "from scipy.stats import t"
   ]
  },
  {
   "cell_type": "code",
   "execution_count": 2,
   "id": "f1d9032b",
   "metadata": {},
   "outputs": [],
   "source": [
    "# Priprava izhodnih podatkov\n",
    "intervali_zaupanja_200_path = '../rezultati/intervali_zaupanja_200.csv'\n",
    "intervali_zaupanja_800_path = '../rezultati/intervali_zaupanja_800.csv'\n",
    "izris_intervalov_zaupanja_200_path = '../rezultati/intervali_zaupanja_100_vzorcev_200.jpg'\n",
    "izris_intervalov_zaupanja_800_path = '../rezultati/intervali_zaupanja_100_vzorcev_800.jpg'"
   ]
  },
  {
   "cell_type": "code",
   "execution_count": 3,
   "id": "5329efc4",
   "metadata": {},
   "outputs": [
    {
     "name": "stdout",
     "output_type": "stream",
     "text": [
      "43886\n"
     ]
    }
   ],
   "source": [
    "# Branje vhodnih podatkov\n",
    "druzine = pd.read_csv('../podatki/Kibergrad.csv')\n",
    "velikost_populacije = druzine.shape[0]\n",
    "print(velikost_populacije)"
   ]
  },
  {
   "cell_type": "code",
   "execution_count": 4,
   "id": "967793a7",
   "metadata": {},
   "outputs": [
    {
     "data": {
      "text/html": [
       "<div>\n",
       "<style scoped>\n",
       "    .dataframe tbody tr th:only-of-type {\n",
       "        vertical-align: middle;\n",
       "    }\n",
       "\n",
       "    .dataframe tbody tr th {\n",
       "        vertical-align: top;\n",
       "    }\n",
       "\n",
       "    .dataframe thead th {\n",
       "        text-align: right;\n",
       "    }\n",
       "</style>\n",
       "<table border=\"1\" class=\"dataframe\">\n",
       "  <thead>\n",
       "    <tr style=\"text-align: right;\">\n",
       "      <th></th>\n",
       "      <th>'TIP'</th>\n",
       "      <th>'CLANOV'</th>\n",
       "      <th>'OTROK'</th>\n",
       "      <th>'DOHODEK'</th>\n",
       "      <th>'CETRT'</th>\n",
       "      <th>'IZOBRAZBA'</th>\n",
       "    </tr>\n",
       "  </thead>\n",
       "  <tbody>\n",
       "    <tr>\n",
       "      <th>0</th>\n",
       "      <td>1</td>\n",
       "      <td>2</td>\n",
       "      <td>0</td>\n",
       "      <td>43450</td>\n",
       "      <td>1</td>\n",
       "      <td>39</td>\n",
       "    </tr>\n",
       "    <tr>\n",
       "      <th>1</th>\n",
       "      <td>1</td>\n",
       "      <td>2</td>\n",
       "      <td>0</td>\n",
       "      <td>79000</td>\n",
       "      <td>1</td>\n",
       "      <td>40</td>\n",
       "    </tr>\n",
       "    <tr>\n",
       "      <th>2</th>\n",
       "      <td>1</td>\n",
       "      <td>2</td>\n",
       "      <td>0</td>\n",
       "      <td>51306</td>\n",
       "      <td>1</td>\n",
       "      <td>39</td>\n",
       "    </tr>\n",
       "    <tr>\n",
       "      <th>3</th>\n",
       "      <td>1</td>\n",
       "      <td>4</td>\n",
       "      <td>2</td>\n",
       "      <td>24850</td>\n",
       "      <td>1</td>\n",
       "      <td>41</td>\n",
       "    </tr>\n",
       "    <tr>\n",
       "      <th>4</th>\n",
       "      <td>1</td>\n",
       "      <td>4</td>\n",
       "      <td>2</td>\n",
       "      <td>65145</td>\n",
       "      <td>1</td>\n",
       "      <td>43</td>\n",
       "    </tr>\n",
       "    <tr>\n",
       "      <th>...</th>\n",
       "      <td>...</td>\n",
       "      <td>...</td>\n",
       "      <td>...</td>\n",
       "      <td>...</td>\n",
       "      <td>...</td>\n",
       "      <td>...</td>\n",
       "    </tr>\n",
       "    <tr>\n",
       "      <th>43881</th>\n",
       "      <td>1</td>\n",
       "      <td>5</td>\n",
       "      <td>3</td>\n",
       "      <td>30800</td>\n",
       "      <td>4</td>\n",
       "      <td>36</td>\n",
       "    </tr>\n",
       "    <tr>\n",
       "      <th>43882</th>\n",
       "      <td>1</td>\n",
       "      <td>2</td>\n",
       "      <td>0</td>\n",
       "      <td>16684</td>\n",
       "      <td>4</td>\n",
       "      <td>34</td>\n",
       "    </tr>\n",
       "    <tr>\n",
       "      <th>43883</th>\n",
       "      <td>1</td>\n",
       "      <td>2</td>\n",
       "      <td>0</td>\n",
       "      <td>12000</td>\n",
       "      <td>4</td>\n",
       "      <td>39</td>\n",
       "    </tr>\n",
       "    <tr>\n",
       "      <th>43884</th>\n",
       "      <td>1</td>\n",
       "      <td>2</td>\n",
       "      <td>0</td>\n",
       "      <td>50022</td>\n",
       "      <td>4</td>\n",
       "      <td>34</td>\n",
       "    </tr>\n",
       "    <tr>\n",
       "      <th>43885</th>\n",
       "      <td>1</td>\n",
       "      <td>9</td>\n",
       "      <td>7</td>\n",
       "      <td>21082</td>\n",
       "      <td>4</td>\n",
       "      <td>39</td>\n",
       "    </tr>\n",
       "  </tbody>\n",
       "</table>\n",
       "<p>43886 rows × 6 columns</p>\n",
       "</div>"
      ],
      "text/plain": [
       "       'TIP'  'CLANOV'  'OTROK'  'DOHODEK'  'CETRT'  'IZOBRAZBA'\n",
       "0          1         2        0      43450        1           39\n",
       "1          1         2        0      79000        1           40\n",
       "2          1         2        0      51306        1           39\n",
       "3          1         4        2      24850        1           41\n",
       "4          1         4        2      65145        1           43\n",
       "...      ...       ...      ...        ...      ...          ...\n",
       "43881      1         5        3      30800        4           36\n",
       "43882      1         2        0      16684        4           34\n",
       "43883      1         2        0      12000        4           39\n",
       "43884      1         2        0      50022        4           34\n",
       "43885      1         9        7      21082        4           39\n",
       "\n",
       "[43886 rows x 6 columns]"
      ]
     },
     "execution_count": 4,
     "metadata": {},
     "output_type": "execute_result"
    }
   ],
   "source": [
    "druzine"
   ]
  },
  {
   "cell_type": "code",
   "execution_count": 5,
   "id": "29a7d154",
   "metadata": {},
   "outputs": [],
   "source": [
    "# Vzamemo 100 enostavnih slučajnih vzorcev družin\n",
    "n_vzorca = 200\n",
    "vzorci = [druzine.sample(n_vzorca) for _ in range(100)]"
   ]
  },
  {
   "cell_type": "code",
   "execution_count": 6,
   "id": "e0679d5b",
   "metadata": {},
   "outputs": [],
   "source": [
    "vzorci_otrok = np.array([v[\"'OTROK'\"].to_numpy() for v in vzorci])"
   ]
  },
  {
   "cell_type": "code",
   "execution_count": 7,
   "id": "06097355",
   "metadata": {},
   "outputs": [
    {
     "name": "stdout",
     "output_type": "stream",
     "text": [
      "Povprečje prvega vzorca je 0.755\n"
     ]
    }
   ],
   "source": [
    "# Izračun ocen povprečij števila otrok za vsakega od vzorcev družin\n",
    "povprecja_otrok = np.mean(vzorci_otrok, axis=1)\n",
    "\n",
    "# Povprečje ocena povprečja iz prvega vzorca\n",
    "print('Povprečje prvega vzorca je', povprecja_otrok[0])"
   ]
  },
  {
   "cell_type": "code",
   "execution_count": 8,
   "id": "35025fa5",
   "metadata": {},
   "outputs": [
    {
     "name": "stdout",
     "output_type": "stream",
     "text": [
      "Ocena standardne napake za prvi vzorec je 0.07534852426137259\n"
     ]
    }
   ],
   "source": [
    "# Računanje standardne napake ocene povprečja\n",
    "N = velikost_populacije\n",
    "(a, b) = vzorci_otrok.shape\n",
    "\n",
    "razsirjeno_povprecje = np.transpose(np.resize(povprecja_otrok, (b,a)))\n",
    "vsota_kvadratov = (vzorci_otrok - razsirjeno_povprecje)**2\n",
    "vsota_kvadratov = vsota_kvadratov.sum(axis=1)\n",
    "SE = ((N-n_vzorca) / N) * (1/(n_vzorca*(n_vzorca-1))) * vsota_kvadratov\n",
    "SE = np.sqrt(SE)\n",
    "\n",
    "# Ocena standardne napake za prvi vzorec\n",
    "print('Ocena standardne napake za prvi vzorec je', SE[0])"
   ]
  },
  {
   "cell_type": "code",
   "execution_count": 9,
   "id": "79d7d120",
   "metadata": {},
   "outputs": [
    {
     "data": {
      "text/plain": [
       "array([0.60641598, 0.90358402])"
      ]
     },
     "execution_count": 9,
     "metadata": {},
     "output_type": "execute_result"
    }
   ],
   "source": [
    "# Izračun intervalov zaupanja za izbrane vzorce družin\n",
    "df = n_vzorca - 1\n",
    "alpha = 0.05 # je stopnja tveganja\n",
    "kvantil_t = t.ppf(1-(alpha/2), df)\n",
    "\n",
    "sirina_intervala = kvantil_t * SE\n",
    "spodnje_meje = povprecja_otrok - sirina_intervala\n",
    "zgornje_meje = povprecja_otrok + sirina_intervala\n",
    "intervali_zaupanja = np.array([spodnje_meje, zgornje_meje]).transpose()\n",
    "\n",
    "# Interval zaupanja za prvi vzorec\n",
    "intervali_zaupanja[0]"
   ]
  },
  {
   "cell_type": "code",
   "execution_count": 10,
   "id": "75cdade6",
   "metadata": {},
   "outputs": [],
   "source": [
    "# Shranjevanje intervalov zaupanja v datoteko\n",
    "intervali_zaupanja_df = pd.DataFrame({\n",
    "    'SPODNJA_MEJA' : spodnje_meje,\n",
    "    'ZGORNJA_MEJA' : zgornje_meje\n",
    "})\n",
    "\n",
    "intervali_zaupanja_df.to_csv(intervali_zaupanja_200_path)"
   ]
  },
  {
   "cell_type": "code",
   "execution_count": 11,
   "id": "333b13d2",
   "metadata": {},
   "outputs": [
    {
     "name": "stdout",
     "output_type": "stream",
     "text": [
      "Pravo populacijsko povprečje je 0.9479332816843641\n"
     ]
    }
   ],
   "source": [
    "# Izračun populacijskega povprečja, standardnega odklona in\n",
    "# prave standardne napake za enostavne slučajne vzorce velikosti 200\n",
    "populacija_otrok = druzine[\"'OTROK'\"].to_numpy()\n",
    "mi_otrok = populacija_otrok.mean()\n",
    "std_otrok = populacija_otrok.std()\n",
    "st_napaka_otrok_vzorcev = np.sqrt((N - n_vzorca) / (N - 1) * std_otrok**2 / n_vzorca)\n",
    "\n",
    "print('Pravo populacijsko povprečje je', mi_otrok)"
   ]
  },
  {
   "cell_type": "code",
   "execution_count": 12,
   "id": "36b052ef",
   "metadata": {},
   "outputs": [
    {
     "name": "stdout",
     "output_type": "stream",
     "text": [
      "Ocena standardne napake:  0.07534852426137259\n",
      "Prava standardna napaka:  0.0816404987959038\n"
     ]
    }
   ],
   "source": [
    "# Primerjava standardne napake za prvi vzorec\n",
    "print('Ocena standardne napake: ', SE[0])\n",
    "print('Prava standardna napaka: ', st_napaka_otrok_vzorcev)"
   ]
  },
  {
   "cell_type": "code",
   "execution_count": 13,
   "id": "6e3202be",
   "metadata": {},
   "outputs": [
    {
     "name": "stdout",
     "output_type": "stream",
     "text": [
      "Ne, interval zapuanja za prvi vzorec ne pokrije populacijskega povprečja.\n"
     ]
    }
   ],
   "source": [
    "# Ali interval zapuanja pokrije populacijsko povprečje?\n",
    "pokrije = intervali_zaupanja[0,0] < mi_otrok and mi_otrok < intervali_zaupanja[0, 1]\n",
    "if pokrije:\n",
    "    print('Da, interval zapuanja za prvi vzorec pokrije populacijsko povprečje.')\n",
    "else:\n",
    "    print('Ne, interval zapuanja za prvi vzorec ne pokrije populacijskega povprečja.')"
   ]
  },
  {
   "cell_type": "code",
   "execution_count": 14,
   "id": "6ad21959",
   "metadata": {},
   "outputs": [
    {
     "name": "stdout",
     "output_type": "stream",
     "text": [
      "Delež intervalov zaupanja, ki pokrivajo populacijsko povprečje, je 0.92\n"
     ]
    },
    {
     "data": {
      "image/png": "[encoded data removed]",
      "text/plain": [
       "<Figure size 1080x576 with 1 Axes>"
      ]
     },
     "metadata": {
      "needs_background": "light"
     },
     "output_type": "display_data"
    }
   ],
   "source": [
    "# Grafična primerjava intervalov zaupanja in populacijskega povprečja\n",
    "fig, ax = plt.subplots(figsize=(15, 8))\n",
    "x = np.linspace(1, 100, 100)\n",
    "ax.bar(x, 2*sirina_intervala, bottom=intervali_zaupanja[:, 0])\n",
    "izris_mi = ax.axhline(mi_otrok, color='r')\n",
    "izris_mi.set_label('populacijsko povprečje števila otrok na družino')\n",
    "ax.set_xlabel('Vzorci', fontsize=16)\n",
    "ax.set_ylabel('[število otrok]', fontsize=16)\n",
    "ax.legend(fontsize=16)\n",
    "ax.set_title('Populacijsko povprečje otrok na družino in intrevali zaupanja ocen tega povprečja za $100$ vzorcev velikosti $200$.', fontsize=16)\n",
    "fig.savefig(izris_intervalov_zaupanja_200_path, dpi=150)\n",
    "\n",
    "# Koliko od intervalov zaupanja izmed stotih vzorcev pokrije populacijsko povprečje?\n",
    "delez_int_zaup_z_mi = (intervali_zaupanja[:, 0] < mi_otrok) == (mi_otrok < intervali_zaupanja[:, 1])\n",
    "delez_int_zaup_z_mi = delez_int_zaup_z_mi.astype(int).sum() / 100\n",
    "print('Delež intervalov zaupanja, ki pokrivajo populacijsko povprečje, je', delez_int_zaup_z_mi)"
   ]
  },
  {
   "cell_type": "code",
   "execution_count": 15,
   "id": "95af4828",
   "metadata": {},
   "outputs": [
    {
     "name": "stdout",
     "output_type": "stream",
     "text": [
      "Standardni odklon ocen povprečij je 0.08621970994986229\n",
      "Prava standardna napaka za vzorec velikosti 200 je 0.0816404987959038\n"
     ]
    }
   ],
   "source": [
    "# Standardni odklon ocen povprečij\n",
    "n = povprecja_otrok.shape[0]\n",
    "std_povprecij = 1 / (n-1) * ((povprecja_otrok - povprecja_otrok.mean())**2).sum()\n",
    "std_povprecij = np.sqrt(std_povprecij)\n",
    "\n",
    "print('Standardni odklon ocen povprečij je', std_povprecij)\n",
    "print('Prava standardna napaka za vzorec velikosti 200 je', st_napaka_otrok_vzorcev)"
   ]
  },
  {
   "cell_type": "code",
   "execution_count": 16,
   "id": "fce5c4ed",
   "metadata": {},
   "outputs": [],
   "source": [
    "# Vzorci velikosti 800\n",
    "n_vzorca_1 = 800\n",
    "vecji_vzorci = [druzine.sample(n_vzorca_1) for _ in range(100)]\n",
    "vecji_vzorci_otrok = np.array([v[\"'OTROK'\"].to_numpy() for v in vecji_vzorci])"
   ]
  },
  {
   "cell_type": "code",
   "execution_count": 23,
   "id": "9a9439dc",
   "metadata": {},
   "outputs": [
    {
     "name": "stdout",
     "output_type": "stream",
     "text": [
      "Ocena standardne napake za prvi vzorec je 0.04038766160581789\n"
     ]
    }
   ],
   "source": [
    "# Računanje ocen povprečja in standardne napake\n",
    "N = velikost_populacije\n",
    "(a, b) = vecji_vzorci_otrok.shape\n",
    "\n",
    "povprecja_otrok_1 = np.mean(vecji_vzorci_otrok, axis=1)\n",
    "\n",
    "razsirjeno_povprecje = np.transpose(np.resize(povprecja_otrok_1, (b,a)))\n",
    "vsota_kvadratov = (vecji_vzorci_otrok - razsirjeno_povprecje)**2\n",
    "vsota_kvadratov = vsota_kvadratov.sum(axis=1)\n",
    "SE_1 = ((N-n_vzorca_1) / N) * (1/(n_vzorca_1*(n_vzorca_1-1))) * vsota_kvadratov\n",
    "SE_1 = np.sqrt(SE_1)\n",
    "\n",
    "print('Ocena standardne napake za prvi vzorec je', SE_1[0])"
   ]
  },
  {
   "cell_type": "code",
   "execution_count": 18,
   "id": "f49d94d9",
   "metadata": {},
   "outputs": [],
   "source": [
    "# Ocene povprečij in standardne napake za večje vzorce\n",
    "df = n_vzorca_1 - 1\n",
    "alpha = 0.05 # je stopnja tveganja\n",
    "kvantil_t = t.ppf(1-(alpha/2), df)\n",
    "\n",
    "sirina_intervala_1 = kvantil_t * SE_1\n",
    "spodnje_meje_1 = povprecja_otrok_1 - sirina_intervala_1\n",
    "zgornje_meje_1 = povprecja_otrok_1 + sirina_intervala_1\n",
    "intervali_zaupanja_1 = np.array([spodnje_meje_1, zgornje_meje_1]).transpose()"
   ]
  },
  {
   "cell_type": "code",
   "execution_count": 19,
   "id": "558a2fea",
   "metadata": {},
   "outputs": [],
   "source": [
    "# Shranjevanje intervalov zaupanja v datoteko\n",
    "intervali_zaupanja_df_1 = pd.DataFrame({\n",
    "    'SPODNJA_MEJA' : spodnje_meje_1,\n",
    "    'ZGORNJA_MEJA' : zgornje_meje_1\n",
    "})\n",
    "\n",
    "intervali_zaupanja_df_1.to_csv(intervali_zaupanja_800_path)"
   ]
  },
  {
   "cell_type": "code",
   "execution_count": 20,
   "id": "caef93c0",
   "metadata": {},
   "outputs": [
    {
     "name": "stdout",
     "output_type": "stream",
     "text": [
      "Delež intervalov zaupanja, ki pokrivajo populacijsko povprečje, je 0.94\n"
     ]
    },
    {
     "data": {
      "image/png": "[encoded data removed]",
      "text/plain": [
       "<Figure size 1080x576 with 1 Axes>"
      ]
     },
     "metadata": {
      "needs_background": "light"
     },
     "output_type": "display_data"
    }
   ],
   "source": [
    "# Grafična primerjava intervalov zaupanja in populacijskega povprečja\n",
    "fig, ax = plt.subplots(figsize=(15, 8))\n",
    "x = np.linspace(1, 100, 100)\n",
    "ax.bar(x, 2*sirina_intervala_1, bottom=intervali_zaupanja_1[:, 0])\n",
    "izris_mi = ax.axhline(mi_otrok, color='r')\n",
    "izris_mi.set_label('populacijsko povprečje števila otrok na družino')\n",
    "ax.set_xlabel('Vzorci', fontsize=16)\n",
    "ax.set_ylabel('[število otrok]', fontsize=16)\n",
    "ax.legend(fontsize=16)\n",
    "ax.set_title('Populacijsko povprečje otrok na družino in intrevali zaupanja ocen tega povprečja za $100$ vzorcev velikosti $800$.', fontsize=16)\n",
    "fig.savefig(izris_intervalov_zaupanja_800_path, dpi=150)\n",
    "\n",
    "# Koliko od intervalov zaupanja izmed stotih vzorcev pokrije populacijsko povprečje?\n",
    "delez_int_zaup_z_mi_1 = (intervali_zaupanja_1[:, 0] < mi_otrok) == (mi_otrok < intervali_zaupanja_1[:, 1])\n",
    "delez_int_zaup_z_mi_1 = delez_int_zaup_z_mi_1.astype(int).sum() / 100\n",
    "print('Delež intervalov zaupanja, ki pokrivajo populacijsko povprečje, je', delez_int_zaup_z_mi_1)"
   ]
  },
  {
   "cell_type": "code",
   "execution_count": 21,
   "id": "29ba1cf2",
   "metadata": {},
   "outputs": [
    {
     "name": "stdout",
     "output_type": "stream",
     "text": [
      "Standardni odklon ocen povprečij je 0.03700579227115886\n",
      "Prava standardna napaka za vzorec velikosti 800 je 0.040538959874385\n"
     ]
    }
   ],
   "source": [
    "# Standardni odklon ocen povprečij\n",
    "n = povprecja_otrok_1.shape[0]\n",
    "std_povprecij_1 = 1 / (n-1) * ((povprecja_otrok_1 - povprecja_otrok_1.mean())**2).sum()\n",
    "std_povprecij_1 = np.sqrt(std_povprecij_1)\n",
    "\n",
    "st_napaka_otrok_vzorcev_1 = np.sqrt((N - n_vzorca_1) / (N - 1) * std_otrok**2 / n_vzorca_1)\n",
    "\n",
    "print('Standardni odklon ocen povprečij je', std_povprecij_1)\n",
    "print('Prava standardna napaka za vzorec velikosti 800 je', st_napaka_otrok_vzorcev_1)"
   ]
  },
  {
   "cell_type": "code",
   "execution_count": 22,
   "id": "db30a03c",
   "metadata": {},
   "outputs": [
    {
     "name": "stdout",
     "output_type": "stream",
     "text": [
      "Delež pokritja populacijskega povprečja za vzorce velikosti 200 je 0.92\n",
      "Delež pokritja populacijskega povprečja za vzorce velikosti 800 je 0.94\n"
     ]
    }
   ],
   "source": [
    "# Primerjava deležev pokritja populacijskega povprečja in standardnih odklonov\n",
    "print('Delež pokritja populacijskega povprečja za vzorce velikosti 200 je', delez_int_zaup_z_mi)\n",
    "print('Delež pokritja populacijskega povprečja za vzorce velikosti 800 je', delez_int_zaup_z_mi_1)"
   ]
  }
 ],
 "metadata": {
  "interpreter": {
   "hash": "be3077e381d32e0ad73dc94bb91cccb0b11160435284dbf243074b8e96d65f20"
  },
  "kernelspec": {
   "display_name": "Python 3.9.12 ('stats')",
   "language": "python",
   "name": "python3"
  },
  "language_info": {
   "codemirror_mode": {
    "name": "ipython",
    "version": 3
   },
   "file_extension": ".py",
   "mimetype": "text/x-python",
   "name": "python",
   "nbconvert_exporter": "python",
   "pygments_lexer": "ipython3",
   "version": "3.9.12"
  }
 },
 "nbformat": 4,
 "nbformat_minor": 5
}
