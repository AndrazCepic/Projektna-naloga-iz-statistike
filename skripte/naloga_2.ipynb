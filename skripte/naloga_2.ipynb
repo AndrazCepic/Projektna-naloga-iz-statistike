{
 "cells": [
  {
   "cell_type": "code",
   "execution_count": 1,
   "metadata": {},
   "outputs": [],
   "source": [
    "import numpy as np"
   ]
  },
  {
   "cell_type": "code",
   "execution_count": 2,
   "metadata": {},
   "outputs": [],
   "source": [
    "opazeni = np.array([3, 0, 2, 1, 3, 2, 1, 0, 2, 2])"
   ]
  },
  {
   "cell_type": "code",
   "execution_count": 8,
   "metadata": {},
   "outputs": [
    {
     "name": "stdout",
     "output_type": "stream",
     "text": [
      "Ocena parametra po metodi momentov je 0.3666666666666667\n",
      "Ocena za standardno napako ocene parametra je 1.07496769977314\n"
     ]
    }
   ],
   "source": [
    "# Metoda momentov ocena theta\n",
    "theta_1 = 7. / 6. - opazeni.mean() / 2\n",
    "print('Ocena parametra po metodi momentov je', theta_1)\n",
    "\n",
    "# Ocena standardne napake\n",
    "n = opazeni.shape[0]\n",
    "MSE = 1/(n-1) * ((opazeni - opazeni.mean())**2).sum()\n",
    "SE = np.sqrt(MSE)\n",
    "print('Ocena za standardno napako ocene parametra je', SE)"
   ]
  },
  {
   "cell_type": "code",
   "execution_count": 11,
   "metadata": {},
   "outputs": [
    {
     "data": {
      "text/plain": [
       "0.15491933384829668"
      ]
     },
     "execution_count": 11,
     "metadata": {},
     "output_type": "execute_result"
    }
   ],
   "source": [
    "# Metoda največjega verjetja\n",
    "# Na roke izračunamo, da je ocena za parameter enaka:\n",
    "theta_2 = 2/5\n",
    "\n",
    "# Fisherjeva informacija se glasi\n",
    "FI = 4/(theta_2**2) + 6/((1-theta_2)**2)\n",
    "\n",
    "# Ocena za standardno napako je torej\n",
    "SE = 1 / np.sqrt(FI)\n",
    "SE"
   ]
  },
  {
   "cell_type": "code",
   "execution_count": null,
   "metadata": {},
   "outputs": [],
   "source": []
  }
 ],
 "metadata": {
  "interpreter": {
   "hash": "be3077e381d32e0ad73dc94bb91cccb0b11160435284dbf243074b8e96d65f20"
  },
  "kernelspec": {
   "display_name": "Python 3.9.12 ('stats')",
   "language": "python",
   "name": "python3"
  },
  "language_info": {
   "codemirror_mode": {
    "name": "ipython",
    "version": 3
   },
   "file_extension": ".py",
   "mimetype": "text/x-python",
   "name": "python",
   "nbconvert_exporter": "python",
   "pygments_lexer": "ipython3",
   "version": "3.9.12"
  },
  "orig_nbformat": 4
 },
 "nbformat": 4,
 "nbformat_minor": 2
}
