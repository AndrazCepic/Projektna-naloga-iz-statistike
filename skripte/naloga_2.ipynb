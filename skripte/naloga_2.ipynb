{
 "cells": [
  {
   "cell_type": "code",
   "execution_count": 41,
   "metadata": {},
   "outputs": [],
   "source": [
    "import numpy as np\n",
    "from scipy.special import factorial, beta\n",
    "import scipy.integrate as integrate\n",
    "import matplotlib.pyplot as plt"
   ]
  },
  {
   "cell_type": "code",
   "execution_count": 2,
   "metadata": {},
   "outputs": [],
   "source": [
    "opazeni = np.array([3, 0, 2, 1, 3, 2, 1, 0, 2, 2])"
   ]
  },
  {
   "cell_type": "code",
   "execution_count": 61,
   "metadata": {},
   "outputs": [
    {
     "name": "stdout",
     "output_type": "stream",
     "text": [
      "Ocena parametra po metodi momentov je 0.3666666666666667\n",
      "Ocena za standardno napako ocene parametra je 0.33993463423951903\n"
     ]
    }
   ],
   "source": [
    "# Metoda momentov ocena theta\n",
    "theta_1 = 7. / 6. - opazeni.mean() / 2\n",
    "print('Ocena parametra po metodi momentov je', theta_1)\n",
    "\n",
    "# Ocena standardne napake\n",
    "n = opazeni.shape[0]\n",
    "MSE = 1/(n-1) * ((opazeni - opazeni.mean())**2).sum()\n",
    "MSE = MSE / n\n",
    "SE = np.sqrt(MSE)\n",
    "print('Ocena za standardno napako ocene parametra je', SE)"
   ]
  },
  {
   "cell_type": "code",
   "execution_count": 64,
   "metadata": {},
   "outputs": [
    {
     "name": "stdout",
     "output_type": "stream",
     "text": [
      "Standardna napaka za oceno preko metode največjega verjetja je 0.15491933384829668\n"
     ]
    }
   ],
   "source": [
    "# Metoda največjega verjetja\n",
    "# Na roke izračunamo, da je ocena za parameter enaka:\n",
    "theta_2 = 2/5\n",
    "\n",
    "# Fisherjeva informacija se glasi\n",
    "FI = 4/(theta_2**2) + 6/((1-theta_2)**2)\n",
    "\n",
    "# Ocena za standardno napako je torej\n",
    "SE = 1 / np.sqrt(FI)\n",
    "print('Standardna napaka za oceno preko metode največjega verjetja je', SE)"
   ]
  },
  {
   "cell_type": "code",
   "execution_count": 65,
   "metadata": {},
   "outputs": [
    {
     "data": {
      "text/plain": [
       "[<matplotlib.lines.Line2D at 0x7faeb0f61c70>]"
      ]
     },
     "execution_count": 65,
     "metadata": {},
     "output_type": "execute_result"
    },
    {
     "data": {
      "image/png": "[encoded data removed]",
      "text/plain": [
       "<Figure size 432x288 with 1 Axes>"
      ]
     },
     "metadata": {
      "needs_background": "light"
     },
     "output_type": "display_data"
    }
   ],
   "source": [
    "# Bayesov način za enakomerno porazdeljen parameter theta\n",
    "stevilo_tock = 1000\n",
    "x = np.linspace(0, 1, stevilo_tock)\n",
    "f_theta = factorial(11) / (factorial(4) * factorial(6)) * (x**4) * (1-x)**6\n",
    "\n",
    "# Modus je maksimum gostote porazdelitve\n",
    "modus = 2/5\n",
    "\n",
    "# Pričakovana vrednost\n",
    "mi = 5/12\n",
    "\n",
    "# Izris gostote pričakovane vrednosti\n",
    "fig, ax = plt.subplots()\n",
    "ax.plot(x, f_theta)"
   ]
  },
  {
   "cell_type": "code",
   "execution_count": 39,
   "metadata": {},
   "outputs": [
    {
     "data": {
      "text/plain": [
       "<matplotlib.lines.Line2D at 0x7fae98951f70>"
      ]
     },
     "execution_count": 39,
     "metadata": {},
     "output_type": "execute_result"
    },
    {
     "data": {
      "image/png": "[encoded data removed]",
      "text/plain": [
       "<Figure size 432x288 with 1 Axes>"
      ]
     },
     "metadata": {
      "needs_background": "light"
     },
     "output_type": "display_data"
    }
   ],
   "source": [
    "# Parameter fi\n",
    "x = np.linspace(0, np.pi/2, stevilo_tock)\n",
    "modus_fi = np.arctan(np.sqrt(2/3))\n",
    "f_fi = 2/(beta(9/2, 13/2)) * (np.sin(x)**8) * (np.cos(x)**12)\n",
    "\n",
    "# Izris gostote\n",
    "fig2, ax2 = plt.subplots()\n",
    "ax2.plot(x, f_fi)\n",
    "ax2.axvline(modus_fi, color='g')"
   ]
  },
  {
   "cell_type": "code",
   "execution_count": 54,
   "metadata": {},
   "outputs": [
    {
     "data": {
      "text/plain": [
       "0.005116731755293591"
      ]
     },
     "execution_count": 54,
     "metadata": {},
     "output_type": "execute_result"
    }
   ],
   "source": [
    "# Izračun pričakovane vrednosti\n",
    "mi_fi = integrate.quad(lambda t: t*np.sin(t)**8 * np.cos(t)**12, 0, np.pi/2)\n",
    "mi_fi = 2 / (beta(9/2, 13/2)) * mi_fi[0]"
   ]
  },
  {
   "cell_type": "code",
   "execution_count": 56,
   "metadata": {},
   "outputs": [
    {
     "name": "stdout",
     "output_type": "stream",
     "text": [
      "Nova ocena za theta preko modusa je 0.4\n",
      "Nova ocena za theta preko pričakovane vrednosti je 0.40501850142112744\n"
     ]
    }
   ],
   "source": [
    "# Pretvorba ocen v parameter theta iz fi\n",
    "mi_theta = np.sin(mi_fi)**2\n",
    "modus_theta = np.sin(modus_fi)**2\n",
    "print('Nova ocena za theta preko modusa je', modus_theta)\n",
    "print('Nova ocena za theta preko pričakovane vrednosti je', mi_theta)"
   ]
  }
 ],
 "metadata": {
  "interpreter": {
   "hash": "be3077e381d32e0ad73dc94bb91cccb0b11160435284dbf243074b8e96d65f20"
  },
  "kernelspec": {
   "display_name": "Python 3.9.12 ('stats')",
   "language": "python",
   "name": "python3"
  },
  "language_info": {
   "codemirror_mode": {
    "name": "ipython",
    "version": 3
   },
   "file_extension": ".py",
   "mimetype": "text/x-python",
   "name": "python",
   "nbconvert_exporter": "python",
   "pygments_lexer": "ipython3",
   "version": "3.9.12"
  },
  "orig_nbformat": 4
 },
 "nbformat": 4,
 "nbformat_minor": 2
}
